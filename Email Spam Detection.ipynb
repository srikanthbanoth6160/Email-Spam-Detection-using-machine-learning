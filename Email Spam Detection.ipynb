{
 "cells": [
  {
   "cell_type": "markdown",
   "id": "f697d243",
   "metadata": {},
   "source": [
    "# Importing Libraries "
   ]
  },
  {
   "cell_type": "code",
   "execution_count": 1,
   "id": "73c05bc5",
   "metadata": {},
   "outputs": [],
   "source": [
    "import numpy as np\n",
    "import pandas as pd\n",
    "from sklearn.feature_extraction.text import TfidfVectorizer\n",
    "import re\n",
    "import matplotlib.pyplot as plt\n",
    "import seaborn as sns\n",
    "from sklearn.feature_extraction.text import CountVectorizer\n",
    "from sklearn.model_selection import train_test_split\n",
    "from sklearn.metrics import accuracy_score, precision_score, recall_score, f1_score, classification_report, confusion_matrix\n",
    "from sklearn.linear_model import LogisticRegression\n",
    "from sklearn.naive_bayes import MultinomialNB\n",
    "from sklearn.svm import SVC\n",
    "from sklearn.neural_network import MLPClassifier\n",
    "from sklearn.model_selection import GridSearchCV\n",
    "from tqdm import tqdm\n",
    "from itertools import product"
   ]
  },
  {
   "cell_type": "markdown",
   "id": "043eec54",
   "metadata": {},
   "source": [
    "# Setting Options"
   ]
  },
  {
   "cell_type": "code",
   "execution_count": 2,
   "id": "62d717b8",
   "metadata": {},
   "outputs": [],
   "source": [
    "from warnings import filterwarnings\n",
    "filterwarnings('ignore')\n",
    "# return an output value upto 3 decimals\n",
    "pd.options.display.float_format = '{:.3f}'.format\n",
    "sns.set_style(\"whitegrid\")"
   ]
  },
  {
   "cell_type": "markdown",
   "id": "a8307a54",
   "metadata": {},
   "source": [
    "# Loading Email Spam Dataset"
   ]
  },
  {
   "cell_type": "code",
   "execution_count": 3,
   "id": "7b30179d",
   "metadata": {
    "scrolled": false
   },
   "outputs": [
    {
     "data": {
      "text/html": [
       "<div>\n",
       "<style scoped>\n",
       "    .dataframe tbody tr th:only-of-type {\n",
       "        vertical-align: middle;\n",
       "    }\n",
       "\n",
       "    .dataframe tbody tr th {\n",
       "        vertical-align: top;\n",
       "    }\n",
       "\n",
       "    .dataframe thead th {\n",
       "        text-align: right;\n",
       "    }\n",
       "</style>\n",
       "<table border=\"1\" class=\"dataframe\">\n",
       "  <thead>\n",
       "    <tr style=\"text-align: right;\">\n",
       "      <th></th>\n",
       "      <th>v1</th>\n",
       "      <th>v2</th>\n",
       "      <th>Unnamed: 2</th>\n",
       "      <th>Unnamed: 3</th>\n",
       "      <th>Unnamed: 4</th>\n",
       "    </tr>\n",
       "  </thead>\n",
       "  <tbody>\n",
       "    <tr>\n",
       "      <th>0</th>\n",
       "      <td>ham</td>\n",
       "      <td>Go until jurong point, crazy.. Available only ...</td>\n",
       "      <td>NaN</td>\n",
       "      <td>NaN</td>\n",
       "      <td>NaN</td>\n",
       "    </tr>\n",
       "    <tr>\n",
       "      <th>1</th>\n",
       "      <td>ham</td>\n",
       "      <td>Ok lar... Joking wif u oni...</td>\n",
       "      <td>NaN</td>\n",
       "      <td>NaN</td>\n",
       "      <td>NaN</td>\n",
       "    </tr>\n",
       "    <tr>\n",
       "      <th>2</th>\n",
       "      <td>spam</td>\n",
       "      <td>Free entry in 2 a wkly comp to win FA Cup fina...</td>\n",
       "      <td>NaN</td>\n",
       "      <td>NaN</td>\n",
       "      <td>NaN</td>\n",
       "    </tr>\n",
       "    <tr>\n",
       "      <th>3</th>\n",
       "      <td>ham</td>\n",
       "      <td>U dun say so early hor... U c already then say...</td>\n",
       "      <td>NaN</td>\n",
       "      <td>NaN</td>\n",
       "      <td>NaN</td>\n",
       "    </tr>\n",
       "    <tr>\n",
       "      <th>4</th>\n",
       "      <td>ham</td>\n",
       "      <td>Nah I don't think he goes to usf, he lives aro...</td>\n",
       "      <td>NaN</td>\n",
       "      <td>NaN</td>\n",
       "      <td>NaN</td>\n",
       "    </tr>\n",
       "    <tr>\n",
       "      <th>5</th>\n",
       "      <td>spam</td>\n",
       "      <td>FreeMsg Hey there darling it's been 3 week's n...</td>\n",
       "      <td>NaN</td>\n",
       "      <td>NaN</td>\n",
       "      <td>NaN</td>\n",
       "    </tr>\n",
       "    <tr>\n",
       "      <th>6</th>\n",
       "      <td>ham</td>\n",
       "      <td>Even my brother is not like to speak with me. ...</td>\n",
       "      <td>NaN</td>\n",
       "      <td>NaN</td>\n",
       "      <td>NaN</td>\n",
       "    </tr>\n",
       "    <tr>\n",
       "      <th>7</th>\n",
       "      <td>ham</td>\n",
       "      <td>As per your request 'Melle Melle (Oru Minnamin...</td>\n",
       "      <td>NaN</td>\n",
       "      <td>NaN</td>\n",
       "      <td>NaN</td>\n",
       "    </tr>\n",
       "    <tr>\n",
       "      <th>8</th>\n",
       "      <td>spam</td>\n",
       "      <td>WINNER!! As a valued network customer you have...</td>\n",
       "      <td>NaN</td>\n",
       "      <td>NaN</td>\n",
       "      <td>NaN</td>\n",
       "    </tr>\n",
       "    <tr>\n",
       "      <th>9</th>\n",
       "      <td>spam</td>\n",
       "      <td>Had your mobile 11 months or more? U R entitle...</td>\n",
       "      <td>NaN</td>\n",
       "      <td>NaN</td>\n",
       "      <td>NaN</td>\n",
       "    </tr>\n",
       "  </tbody>\n",
       "</table>\n",
       "</div>"
      ],
      "text/plain": [
       "     v1                                                 v2 Unnamed: 2  \\\n",
       "0   ham  Go until jurong point, crazy.. Available only ...        NaN   \n",
       "1   ham                      Ok lar... Joking wif u oni...        NaN   \n",
       "2  spam  Free entry in 2 a wkly comp to win FA Cup fina...        NaN   \n",
       "3   ham  U dun say so early hor... U c already then say...        NaN   \n",
       "4   ham  Nah I don't think he goes to usf, he lives aro...        NaN   \n",
       "5  spam  FreeMsg Hey there darling it's been 3 week's n...        NaN   \n",
       "6   ham  Even my brother is not like to speak with me. ...        NaN   \n",
       "7   ham  As per your request 'Melle Melle (Oru Minnamin...        NaN   \n",
       "8  spam  WINNER!! As a valued network customer you have...        NaN   \n",
       "9  spam  Had your mobile 11 months or more? U R entitle...        NaN   \n",
       "\n",
       "  Unnamed: 3 Unnamed: 4  \n",
       "0        NaN        NaN  \n",
       "1        NaN        NaN  \n",
       "2        NaN        NaN  \n",
       "3        NaN        NaN  \n",
       "4        NaN        NaN  \n",
       "5        NaN        NaN  \n",
       "6        NaN        NaN  \n",
       "7        NaN        NaN  \n",
       "8        NaN        NaN  \n",
       "9        NaN        NaN  "
      ]
     },
     "execution_count": 3,
     "metadata": {},
     "output_type": "execute_result"
    }
   ],
   "source": [
    "df=pd.read_csv('spam.csv',encoding='latin-1')\n",
    "df.head(10)"
   ]
  },
  {
   "cell_type": "markdown",
   "id": "eac185a7",
   "metadata": {},
   "source": [
    "# Cleaning Data"
   ]
  },
  {
   "cell_type": "code",
   "execution_count": 4,
   "id": "dc832ad5",
   "metadata": {},
   "outputs": [
    {
     "data": {
      "text/html": [
       "<div>\n",
       "<style scoped>\n",
       "    .dataframe tbody tr th:only-of-type {\n",
       "        vertical-align: middle;\n",
       "    }\n",
       "\n",
       "    .dataframe tbody tr th {\n",
       "        vertical-align: top;\n",
       "    }\n",
       "\n",
       "    .dataframe thead th {\n",
       "        text-align: right;\n",
       "    }\n",
       "</style>\n",
       "<table border=\"1\" class=\"dataframe\">\n",
       "  <thead>\n",
       "    <tr style=\"text-align: right;\">\n",
       "      <th></th>\n",
       "      <th>v1</th>\n",
       "      <th>v2</th>\n",
       "    </tr>\n",
       "  </thead>\n",
       "  <tbody>\n",
       "    <tr>\n",
       "      <th>0</th>\n",
       "      <td>ham</td>\n",
       "      <td>Go until jurong point, crazy.. Available only ...</td>\n",
       "    </tr>\n",
       "    <tr>\n",
       "      <th>1</th>\n",
       "      <td>ham</td>\n",
       "      <td>Ok lar... Joking wif u oni...</td>\n",
       "    </tr>\n",
       "    <tr>\n",
       "      <th>2</th>\n",
       "      <td>spam</td>\n",
       "      <td>Free entry in 2 a wkly comp to win FA Cup fina...</td>\n",
       "    </tr>\n",
       "    <tr>\n",
       "      <th>3</th>\n",
       "      <td>ham</td>\n",
       "      <td>U dun say so early hor... U c already then say...</td>\n",
       "    </tr>\n",
       "    <tr>\n",
       "      <th>4</th>\n",
       "      <td>ham</td>\n",
       "      <td>Nah I don't think he goes to usf, he lives aro...</td>\n",
       "    </tr>\n",
       "    <tr>\n",
       "      <th>5</th>\n",
       "      <td>spam</td>\n",
       "      <td>FreeMsg Hey there darling it's been 3 week's n...</td>\n",
       "    </tr>\n",
       "    <tr>\n",
       "      <th>6</th>\n",
       "      <td>ham</td>\n",
       "      <td>Even my brother is not like to speak with me. ...</td>\n",
       "    </tr>\n",
       "    <tr>\n",
       "      <th>7</th>\n",
       "      <td>ham</td>\n",
       "      <td>As per your request 'Melle Melle (Oru Minnamin...</td>\n",
       "    </tr>\n",
       "    <tr>\n",
       "      <th>8</th>\n",
       "      <td>spam</td>\n",
       "      <td>WINNER!! As a valued network customer you have...</td>\n",
       "    </tr>\n",
       "    <tr>\n",
       "      <th>9</th>\n",
       "      <td>spam</td>\n",
       "      <td>Had your mobile 11 months or more? U R entitle...</td>\n",
       "    </tr>\n",
       "  </tbody>\n",
       "</table>\n",
       "</div>"
      ],
      "text/plain": [
       "     v1                                                 v2\n",
       "0   ham  Go until jurong point, crazy.. Available only ...\n",
       "1   ham                      Ok lar... Joking wif u oni...\n",
       "2  spam  Free entry in 2 a wkly comp to win FA Cup fina...\n",
       "3   ham  U dun say so early hor... U c already then say...\n",
       "4   ham  Nah I don't think he goes to usf, he lives aro...\n",
       "5  spam  FreeMsg Hey there darling it's been 3 week's n...\n",
       "6   ham  Even my brother is not like to speak with me. ...\n",
       "7   ham  As per your request 'Melle Melle (Oru Minnamin...\n",
       "8  spam  WINNER!! As a valued network customer you have...\n",
       "9  spam  Had your mobile 11 months or more? U R entitle..."
      ]
     },
     "execution_count": 4,
     "metadata": {},
     "output_type": "execute_result"
    }
   ],
   "source": [
    "# Dropping the last 3 columns\n",
    "df.drop(['Unnamed: 2','Unnamed: 3','Unnamed: 4'], axis=1, inplace=True)\n",
    "df.head(10)"
   ]
  },
  {
   "cell_type": "code",
   "execution_count": 5,
   "id": "7022cb7f",
   "metadata": {},
   "outputs": [
    {
     "data": {
      "text/html": [
       "<div>\n",
       "<style scoped>\n",
       "    .dataframe tbody tr th:only-of-type {\n",
       "        vertical-align: middle;\n",
       "    }\n",
       "\n",
       "    .dataframe tbody tr th {\n",
       "        vertical-align: top;\n",
       "    }\n",
       "\n",
       "    .dataframe thead th {\n",
       "        text-align: right;\n",
       "    }\n",
       "</style>\n",
       "<table border=\"1\" class=\"dataframe\">\n",
       "  <thead>\n",
       "    <tr style=\"text-align: right;\">\n",
       "      <th></th>\n",
       "      <th>Target</th>\n",
       "      <th>Email</th>\n",
       "    </tr>\n",
       "  </thead>\n",
       "  <tbody>\n",
       "    <tr>\n",
       "      <th>0</th>\n",
       "      <td>ham</td>\n",
       "      <td>Go until jurong point, crazy.. Available only ...</td>\n",
       "    </tr>\n",
       "    <tr>\n",
       "      <th>1</th>\n",
       "      <td>ham</td>\n",
       "      <td>Ok lar... Joking wif u oni...</td>\n",
       "    </tr>\n",
       "    <tr>\n",
       "      <th>2</th>\n",
       "      <td>spam</td>\n",
       "      <td>Free entry in 2 a wkly comp to win FA Cup fina...</td>\n",
       "    </tr>\n",
       "    <tr>\n",
       "      <th>3</th>\n",
       "      <td>ham</td>\n",
       "      <td>U dun say so early hor... U c already then say...</td>\n",
       "    </tr>\n",
       "    <tr>\n",
       "      <th>4</th>\n",
       "      <td>ham</td>\n",
       "      <td>Nah I don't think he goes to usf, he lives aro...</td>\n",
       "    </tr>\n",
       "    <tr>\n",
       "      <th>5</th>\n",
       "      <td>spam</td>\n",
       "      <td>FreeMsg Hey there darling it's been 3 week's n...</td>\n",
       "    </tr>\n",
       "    <tr>\n",
       "      <th>6</th>\n",
       "      <td>ham</td>\n",
       "      <td>Even my brother is not like to speak with me. ...</td>\n",
       "    </tr>\n",
       "    <tr>\n",
       "      <th>7</th>\n",
       "      <td>ham</td>\n",
       "      <td>As per your request 'Melle Melle (Oru Minnamin...</td>\n",
       "    </tr>\n",
       "    <tr>\n",
       "      <th>8</th>\n",
       "      <td>spam</td>\n",
       "      <td>WINNER!! As a valued network customer you have...</td>\n",
       "    </tr>\n",
       "    <tr>\n",
       "      <th>9</th>\n",
       "      <td>spam</td>\n",
       "      <td>Had your mobile 11 months or more? U R entitle...</td>\n",
       "    </tr>\n",
       "  </tbody>\n",
       "</table>\n",
       "</div>"
      ],
      "text/plain": [
       "  Target                                              Email\n",
       "0    ham  Go until jurong point, crazy.. Available only ...\n",
       "1    ham                      Ok lar... Joking wif u oni...\n",
       "2   spam  Free entry in 2 a wkly comp to win FA Cup fina...\n",
       "3    ham  U dun say so early hor... U c already then say...\n",
       "4    ham  Nah I don't think he goes to usf, he lives aro...\n",
       "5   spam  FreeMsg Hey there darling it's been 3 week's n...\n",
       "6    ham  Even my brother is not like to speak with me. ...\n",
       "7    ham  As per your request 'Melle Melle (Oru Minnamin...\n",
       "8   spam  WINNER!! As a valued network customer you have...\n",
       "9   spam  Had your mobile 11 months or more? U R entitle..."
      ]
     },
     "execution_count": 5,
     "metadata": {},
     "output_type": "execute_result"
    }
   ],
   "source": [
    "# Renaming the columns\n",
    "df.rename(columns={'v1': 'Target', 'v2': 'Email'}, inplace=True)\n",
    "df.head(10)"
   ]
  },
  {
   "cell_type": "code",
   "execution_count": 6,
   "id": "db1fb200",
   "metadata": {},
   "outputs": [
    {
     "data": {
      "text/html": [
       "<div>\n",
       "<style scoped>\n",
       "    .dataframe tbody tr th:only-of-type {\n",
       "        vertical-align: middle;\n",
       "    }\n",
       "\n",
       "    .dataframe tbody tr th {\n",
       "        vertical-align: top;\n",
       "    }\n",
       "\n",
       "    .dataframe thead th {\n",
       "        text-align: right;\n",
       "    }\n",
       "</style>\n",
       "<table border=\"1\" class=\"dataframe\">\n",
       "  <thead>\n",
       "    <tr style=\"text-align: right;\">\n",
       "      <th></th>\n",
       "      <th>Target</th>\n",
       "      <th>Email</th>\n",
       "    </tr>\n",
       "  </thead>\n",
       "  <tbody>\n",
       "    <tr>\n",
       "      <th>0</th>\n",
       "      <td>0</td>\n",
       "      <td>Go until jurong point, crazy.. Available only ...</td>\n",
       "    </tr>\n",
       "    <tr>\n",
       "      <th>1</th>\n",
       "      <td>0</td>\n",
       "      <td>Ok lar... Joking wif u oni...</td>\n",
       "    </tr>\n",
       "    <tr>\n",
       "      <th>2</th>\n",
       "      <td>1</td>\n",
       "      <td>Free entry in 2 a wkly comp to win FA Cup fina...</td>\n",
       "    </tr>\n",
       "    <tr>\n",
       "      <th>3</th>\n",
       "      <td>0</td>\n",
       "      <td>U dun say so early hor... U c already then say...</td>\n",
       "    </tr>\n",
       "    <tr>\n",
       "      <th>4</th>\n",
       "      <td>0</td>\n",
       "      <td>Nah I don't think he goes to usf, he lives aro...</td>\n",
       "    </tr>\n",
       "    <tr>\n",
       "      <th>5</th>\n",
       "      <td>1</td>\n",
       "      <td>FreeMsg Hey there darling it's been 3 week's n...</td>\n",
       "    </tr>\n",
       "    <tr>\n",
       "      <th>6</th>\n",
       "      <td>0</td>\n",
       "      <td>Even my brother is not like to speak with me. ...</td>\n",
       "    </tr>\n",
       "    <tr>\n",
       "      <th>7</th>\n",
       "      <td>0</td>\n",
       "      <td>As per your request 'Melle Melle (Oru Minnamin...</td>\n",
       "    </tr>\n",
       "    <tr>\n",
       "      <th>8</th>\n",
       "      <td>1</td>\n",
       "      <td>WINNER!! As a valued network customer you have...</td>\n",
       "    </tr>\n",
       "    <tr>\n",
       "      <th>9</th>\n",
       "      <td>1</td>\n",
       "      <td>Had your mobile 11 months or more? U R entitle...</td>\n",
       "    </tr>\n",
       "  </tbody>\n",
       "</table>\n",
       "</div>"
      ],
      "text/plain": [
       "   Target                                              Email\n",
       "0       0  Go until jurong point, crazy.. Available only ...\n",
       "1       0                      Ok lar... Joking wif u oni...\n",
       "2       1  Free entry in 2 a wkly comp to win FA Cup fina...\n",
       "3       0  U dun say so early hor... U c already then say...\n",
       "4       0  Nah I don't think he goes to usf, he lives aro...\n",
       "5       1  FreeMsg Hey there darling it's been 3 week's n...\n",
       "6       0  Even my brother is not like to speak with me. ...\n",
       "7       0  As per your request 'Melle Melle (Oru Minnamin...\n",
       "8       1  WINNER!! As a valued network customer you have...\n",
       "9       1  Had your mobile 11 months or more? U R entitle..."
      ]
     },
     "execution_count": 6,
     "metadata": {},
     "output_type": "execute_result"
    }
   ],
   "source": [
    "# Mapping the target labels to 0 for ham and 1 for spam\n",
    "df['Target']=df['Target'].map({'ham': 0, 'spam': 1})\n",
    "df.head(10)"
   ]
  },
  {
   "cell_type": "markdown",
   "id": "e019844e",
   "metadata": {},
   "source": [
    "# Exploratory Data Analysis"
   ]
  },
  {
   "cell_type": "code",
   "execution_count": 7,
   "id": "deb13296",
   "metadata": {},
   "outputs": [
    {
     "name": "stdout",
     "output_type": "stream",
     "text": [
      "Size of the data: 5572\n",
      "Proportion of spam: 13.41%\n",
      "Proportion of ham: 86.59%\n"
     ]
    }
   ],
   "source": [
    "# Size of the data\n",
    "data_size = df.shape[0]\n",
    "\n",
    "# Proportion of spam\n",
    "spam_proportion = df['Target'].value_counts(normalize=True)[1]\n",
    "\n",
    "# Proportion of ham\n",
    "ham_proportion = df['Target'].value_counts(normalize=True)[0]\n",
    "\n",
    "print(f\"Size of the data: {data_size}\")\n",
    "print(f\"Proportion of spam: {spam_proportion:.2%}\")\n",
    "print(f\"Proportion of ham: {ham_proportion:.2%}\")\n"
   ]
  },
  {
   "cell_type": "code",
   "execution_count": 8,
   "id": "01fd56b1",
   "metadata": {
    "scrolled": false
   },
   "outputs": [
    {
     "data": {
      "image/png": "[encoded data removed]",
      "text/plain": [
       "<Figure size 600x600 with 1 Axes>"
      ]
     },
     "metadata": {},
     "output_type": "display_data"
    }
   ],
   "source": [
    "# Data Imbalance Check\n",
    "plt.figure(figsize=(6, 6))\n",
    "df['Target'].value_counts().plot(kind='bar', color=['blue', 'red'])\n",
    "plt.xticks([0, 1], ['Ham', 'Spam'], rotation=0)\n",
    "plt.title('Data Imbalance Check')\n",
    "plt.xlabel('Email Type')\n",
    "plt.ylabel('Count')\n",
    "plt.show()"
   ]
  },
  {
   "cell_type": "code",
   "execution_count": 9,
   "id": "7f45ce9f",
   "metadata": {},
   "outputs": [
    {
     "data": {
      "image/png": "[encoded data removed]",
      "text/plain": [
       "<Figure size 1000x600 with 1 Axes>"
      ]
     },
     "metadata": {},
     "output_type": "display_data"
    }
   ],
   "source": [
    "# Email Length Analysis\n",
    "df['Email_Length'] = df['Email'].apply(len)\n",
    "\n",
    "plt.figure(figsize=(10, 6))\n",
    "sns.histplot(df[df['Target'] == 1]['Email_Length'], color='red', label='Spam', kde=True)\n",
    "sns.histplot(df[df['Target'] == 0]['Email_Length'], color='blue', label='Ham', kde=True)\n",
    "plt.legend()\n",
    "plt.title('Email Length Distribution')\n",
    "plt.xlabel('Email Length')\n",
    "plt.show()"
   ]
  },
  {
   "cell_type": "code",
   "execution_count": 10,
   "id": "27a3104a",
   "metadata": {
    "scrolled": false
   },
   "outputs": [
    {
     "data": {
      "image/png": "[encoded data removed]",
      "text/plain": [
       "<Figure size 1200x600 with 2 Axes>"
      ]
     },
     "metadata": {},
     "output_type": "display_data"
    }
   ],
   "source": [
    "spam_data = df[df['Target'] == 1]\n",
    "ham_data = df[df['Target'] == 0]\n",
    "\n",
    "# Create TfidfVectorizer with English stopwords\n",
    "tfidf = TfidfVectorizer(stop_words='english')\n",
    "\n",
    "# Combine the text data for both spam and ham\n",
    "combined_data = df['Email']\n",
    "\n",
    "# Fit and transform the combined data\n",
    "tfidf_matrix = tfidf.fit_transform(combined_data)\n",
    "\n",
    "# Get the feature names (words) from the TfidfVectorizer\n",
    "feature_names = tfidf.get_feature_names_out()\n",
    "\n",
    "# Create a DataFrame from the TF-IDF matrix\n",
    "tfidf_df = pd.DataFrame(tfidf_matrix.toarray(), columns=feature_names)\n",
    "\n",
    "# Get the TF-IDF scores for spam and ham\n",
    "spam_tfidf_df = tfidf_df[df['Target'] == 1]\n",
    "ham_tfidf_df = tfidf_df[df['Target'] == 0]\n",
    "\n",
    "# Get the sum of TF-IDF scores for each word in spam and ham emails\n",
    "spam_word_scores = spam_tfidf_df.sum()\n",
    "ham_word_scores = ham_tfidf_df.sum()\n",
    "\n",
    "# Get top 20 words for spam and ham emails\n",
    "top_spam_words = spam_word_scores.nlargest(20)\n",
    "top_ham_words = ham_word_scores.nlargest(20)\n",
    "\n",
    "# Plotting word frequency using TF-IDF\n",
    "plt.figure(figsize=(12, 6))\n",
    "plt.subplot(1, 2, 1)\n",
    "sns.barplot(x=top_ham_words, y=top_ham_words.index, color='blue')\n",
    "plt.title('Top 20 words in Ham Emails (Using TF-IDF)')\n",
    "plt.subplot(1, 2, 2)\n",
    "sns.barplot(x=top_spam_words, y=top_spam_words.index, color='red')\n",
    "plt.title('Top 20 words in Spam Emails (Using TF-IDF)')\n",
    "plt.show()"
   ]
  },
  {
   "cell_type": "markdown",
   "id": "349da076",
   "metadata": {},
   "source": [
    "Interesting to see that in spam, the length of email is a concise 1-200 worded email and in ham, it has more variance in length. Also, the top 20 words excluding stop words, the words in the spam emails contain more words like \"free\", \"stop\", \"reply\", \"claim\", \"won\" etc."
   ]
  },
  {
   "cell_type": "markdown",
   "id": "2121dd7e",
   "metadata": {},
   "source": [
    "# Further Text Preprocessing"
   ]
  },
  {
   "cell_type": "code",
   "execution_count": 11,
   "id": "e677eb4b",
   "metadata": {},
   "outputs": [],
   "source": [
    "def preprocess_text(text):\n",
    "    # Convert to lowercase\n",
    "    text = text.lower()\n",
    "    # Remove punctuation and special characters\n",
    "    text = re.sub(r'[^\\w\\s]', '', text)\n",
    "    # Remove extra whitespaces\n",
    "    text = ' '.join(text.split())\n",
    "    return text"
   ]
  },
  {
   "cell_type": "markdown",
   "id": "08e2b77e",
   "metadata": {},
   "source": [
    "# Splitting the Data"
   ]
  },
  {
   "cell_type": "code",
   "execution_count": 12,
   "id": "ac8fd079",
   "metadata": {},
   "outputs": [
    {
     "name": "stdout",
     "output_type": "stream",
     "text": [
      "4380               Mathews or tait or edwards or anderson\n",
      "3887                   ok....take care.umma to you too...\n",
      "4755    Don't make life too stressfull.. Always find t...\n",
      "2707    Great NEW Offer - DOUBLE Mins & DOUBLE Txt on ...\n",
      "4747    The beauty of life is in next second.. which h...\n",
      "Name: Email, dtype: object\n",
      "4456    Aight should I just plan to come up later toni...\n",
      "690                                    Was the farm open?\n",
      "944     I sent my scores to sophas and i had to do sec...\n",
      "3768    Was gr8 to see that message. So when r u leavi...\n",
      "1189    In that case I guess I'll see you at campus lodge\n",
      "Name: Email, dtype: object\n"
     ]
    }
   ],
   "source": [
    "X_train, X_valid, y_train, y_valid= train_test_split(df['Email'], df['Target'], test_size=0.3, random_state=0)\n",
    "print(X_train.head())\n",
    "print(X_valid.head())"
   ]
  },
  {
   "cell_type": "markdown",
   "id": "11a66adb",
   "metadata": {},
   "source": [
    "Since only 13.41% of the data is spam, instead of a 80/20 train/test split, we will use 70/30 train/test split. "
   ]
  },
  {
   "cell_type": "code",
   "execution_count": 13,
   "id": "a0db233f",
   "metadata": {},
   "outputs": [
    {
     "data": {
      "text/plain": [
       "False"
      ]
     },
     "execution_count": 13,
     "metadata": {},
     "output_type": "execute_result"
    }
   ],
   "source": [
    "X_train.isnull().any()"
   ]
  },
  {
   "cell_type": "code",
   "execution_count": 14,
   "id": "1904b5da",
   "metadata": {},
   "outputs": [],
   "source": [
    "# Apply the preprocessing function to the 'Email' column\n",
    "X_train = X_train.apply(preprocess_text)\n",
    "X_valid = X_valid.apply(preprocess_text)"
   ]
  },
  {
   "cell_type": "code",
   "execution_count": 15,
   "id": "6cada061",
   "metadata": {},
   "outputs": [
    {
     "name": "stdout",
     "output_type": "stream",
     "text": [
      "4380               mathews or tait or edwards or anderson\n",
      "3887                           oktake careumma to you too\n",
      "4755    dont make life too stressfull always find time...\n",
      "2707    great new offer double mins double txt on best...\n",
      "4747    the beauty of life is in next second which hid...\n",
      "Name: Email, dtype: object\n",
      "4456    aight should i just plan to come up later tonight\n",
      "690                                     was the farm open\n",
      "944     i sent my scores to sophas and i had to do sec...\n",
      "3768    was gr8 to see that message so when r u leavin...\n",
      "1189     in that case i guess ill see you at campus lodge\n",
      "Name: Email, dtype: object\n"
     ]
    }
   ],
   "source": [
    "print(X_train.head())\n",
    "print(X_valid.head())"
   ]
  },
  {
   "cell_type": "code",
   "execution_count": 16,
   "id": "7e351d96",
   "metadata": {},
   "outputs": [],
   "source": [
    "# Removing stopwords\n",
    "tfidf = TfidfVectorizer(stop_words='english')"
   ]
  },
  {
   "cell_type": "code",
   "execution_count": 17,
   "id": "c83a504e",
   "metadata": {},
   "outputs": [
    {
     "data": {
      "text/plain": [
       "(3900, 7433)"
      ]
     },
     "execution_count": 17,
     "metadata": {},
     "output_type": "execute_result"
    }
   ],
   "source": [
    "# Construct the required TF-IDF matrix by fitting and transforming the data\n",
    "tfidf_matrix_train = tfidf.fit_transform(X_train)\n",
    "tfidf_matrix_valid= tfidf.transform(X_valid)\n",
    "\n",
    "tfidf_matrix_train.shape"
   ]
  },
  {
   "cell_type": "code",
   "execution_count": 18,
   "id": "a292e250",
   "metadata": {},
   "outputs": [],
   "source": [
    "def my_confusion_matrix(y_test, y_pred, plt_title, accuracy_title):\n",
    "    cm=confusion_matrix(y_test, y_pred)\n",
    "    print(f'{accuracy_title} Accuracy Score:', '{:.2%}'.format(accuracy_score(y_valid, y_pred)))\n",
    "    print(classification_report(y_test, y_pred))\n",
    "    sns.heatmap(cm, annot=True, fmt='g', cbar=False, cmap='magma')\n",
    "    plt.xlabel('Predicted Values')\n",
    "    plt.ylabel('Actual Values')\n",
    "    plt.title(plt_title)\n",
    "    plt.show()\n",
    "    return cm"
   ]
  },
  {
   "cell_type": "markdown",
   "id": "58fc3701",
   "metadata": {},
   "source": [
    "# Logistic Regression"
   ]
  },
  {
   "cell_type": "code",
   "execution_count": 19,
   "id": "fb333b4f",
   "metadata": {},
   "outputs": [],
   "source": [
    "log_reg_classifier=LogisticRegression(solver='liblinear')\n",
    "log_reg_classifier.fit(tfidf_matrix_train, y_train)\n",
    "\n",
    "# Predict the labels for the validation set\n",
    "y_pred_log=log_reg_classifier.predict(tfidf_matrix_valid)"
   ]
  },
  {
   "cell_type": "code",
   "execution_count": 20,
   "id": "795b8365",
   "metadata": {
    "scrolled": false
   },
   "outputs": [
    {
     "name": "stdout",
     "output_type": "stream",
     "text": [
      "Logistic Regression: Accuracy Score: 94.56%\n",
      "              precision    recall  f1-score   support\n",
      "\n",
      "           0       0.94      1.00      0.97      1434\n",
      "           1       0.98      0.63      0.77       238\n",
      "\n",
      "    accuracy                           0.95      1672\n",
      "   macro avg       0.96      0.81      0.87      1672\n",
      "weighted avg       0.95      0.95      0.94      1672\n",
      "\n"
     ]
    },
    {
     "data": {
      "image/png": "[encoded data removed]",
      "text/plain": [
       "<Figure size 640x480 with 1 Axes>"
      ]
     },
     "metadata": {},
     "output_type": "display_data"
    },
    {
     "data": {
      "text/plain": [
       "array([[1431,    3],\n",
       "       [  88,  150]], dtype=int64)"
      ]
     },
     "execution_count": 20,
     "metadata": {},
     "output_type": "execute_result"
    }
   ],
   "source": [
    "my_confusion_matrix(y_valid, y_pred_log, 'Logistic Regression Confusion Matrix', 'Logistic Regression:')"
   ]
  },
  {
   "cell_type": "markdown",
   "id": "7ee67ae5",
   "metadata": {},
   "source": [
    "# Naive Bayes"
   ]
  },
  {
   "cell_type": "code",
   "execution_count": 21,
   "id": "c4318e79",
   "metadata": {},
   "outputs": [],
   "source": [
    "nb_classifier = MultinomialNB()\n",
    "nb_classifier.fit(tfidf_matrix_train, y_train)\n",
    "\n",
    "# Predict the labels for the validation set\n",
    "y_pred_nb = nb_classifier.predict(tfidf_matrix_valid)"
   ]
  },
  {
   "cell_type": "code",
   "execution_count": 22,
   "id": "6da7432b",
   "metadata": {},
   "outputs": [
    {
     "name": "stdout",
     "output_type": "stream",
     "text": [
      "Naive Bayes: Accuracy Score: 95.69%\n",
      "              precision    recall  f1-score   support\n",
      "\n",
      "           0       0.95      1.00      0.98      1434\n",
      "           1       1.00      0.70      0.82       238\n",
      "\n",
      "    accuracy                           0.96      1672\n",
      "   macro avg       0.98      0.85      0.90      1672\n",
      "weighted avg       0.96      0.96      0.95      1672\n",
      "\n"
     ]
    },
    {
     "data": {
      "image/png": "[encoded data removed]",
      "text/plain": [
       "<Figure size 640x480 with 1 Axes>"
      ]
     },
     "metadata": {},
     "output_type": "display_data"
    },
    {
     "data": {
      "text/plain": [
       "array([[1434,    0],\n",
       "       [  72,  166]], dtype=int64)"
      ]
     },
     "execution_count": 22,
     "metadata": {},
     "output_type": "execute_result"
    }
   ],
   "source": [
    "my_confusion_matrix(y_valid, y_pred_nb, 'Multinomial Naive Bayes Confusion Matrix', 'Naive Bayes:')"
   ]
  },
  {
   "cell_type": "markdown",
   "id": "83dbdcd1",
   "metadata": {},
   "source": [
    "# Support Vector Machines"
   ]
  },
  {
   "cell_type": "markdown",
   "id": "1838bd0b",
   "metadata": {},
   "source": [
    "### Linear Kernel"
   ]
  },
  {
   "cell_type": "code",
   "execution_count": 23,
   "id": "d5bb853b",
   "metadata": {},
   "outputs": [],
   "source": [
    "svm_classifier = SVC(kernel='linear')\n",
    "svm_classifier.fit(tfidf_matrix_train, y_train)\n",
    "\n",
    "# Predict the labels for the validation set\n",
    "y_pred_lin_svm = svm_classifier.predict(tfidf_matrix_valid)"
   ]
  },
  {
   "cell_type": "code",
   "execution_count": 24,
   "id": "15923cef",
   "metadata": {},
   "outputs": [
    {
     "name": "stdout",
     "output_type": "stream",
     "text": [
      "Support Vector Machine - Linear: Accuracy Score: 97.91%\n",
      "              precision    recall  f1-score   support\n",
      "\n",
      "           0       0.98      1.00      0.99      1434\n",
      "           1       0.98      0.87      0.92       238\n",
      "\n",
      "    accuracy                           0.98      1672\n",
      "   macro avg       0.98      0.93      0.95      1672\n",
      "weighted avg       0.98      0.98      0.98      1672\n",
      "\n"
     ]
    },
    {
     "data": {
      "image/png": "[encoded data removed]",
      "text/plain": [
       "<Figure size 640x480 with 1 Axes>"
      ]
     },
     "metadata": {},
     "output_type": "display_data"
    },
    {
     "data": {
      "text/plain": [
       "array([[1430,    4],\n",
       "       [  31,  207]], dtype=int64)"
      ]
     },
     "execution_count": 24,
     "metadata": {},
     "output_type": "execute_result"
    }
   ],
   "source": [
    "my_confusion_matrix(y_valid, y_pred_lin_svm, 'Support Vector Machine - Linear Confusion Matrix', 'Support Vector Machine - Linear:')"
   ]
  },
  {
   "cell_type": "markdown",
   "id": "ff1dcc97",
   "metadata": {},
   "source": [
    "### Polynomial Kernel Degree 3"
   ]
  },
  {
   "cell_type": "code",
   "execution_count": 25,
   "id": "38d734b5",
   "metadata": {},
   "outputs": [],
   "source": [
    "svm_classifier_poly = SVC(kernel='poly', degree=3, gamma='scale', coef0=0.0)\n",
    "svm_classifier_poly.fit(tfidf_matrix_train, y_train)\n",
    "\n",
    "# Predict the labels for the validation set\n",
    "y_pred_poly_svm = svm_classifier_poly.predict(tfidf_matrix_valid)"
   ]
  },
  {
   "cell_type": "code",
   "execution_count": 26,
   "id": "4d3293dc",
   "metadata": {},
   "outputs": [
    {
     "name": "stdout",
     "output_type": "stream",
     "text": [
      "Support Vector Machine - Polynomial(3): Accuracy Score: 92.46%\n",
      "              precision    recall  f1-score   support\n",
      "\n",
      "           0       0.92      1.00      0.96      1434\n",
      "           1       1.00      0.47      0.64       238\n",
      "\n",
      "    accuracy                           0.92      1672\n",
      "   macro avg       0.96      0.74      0.80      1672\n",
      "weighted avg       0.93      0.92      0.91      1672\n",
      "\n"
     ]
    },
    {
     "data": {
      "image/png": "[encoded data removed]",
      "text/plain": [
       "<Figure size 640x480 with 1 Axes>"
      ]
     },
     "metadata": {},
     "output_type": "display_data"
    },
    {
     "data": {
      "text/plain": [
       "array([[1434,    0],\n",
       "       [ 126,  112]], dtype=int64)"
      ]
     },
     "execution_count": 26,
     "metadata": {},
     "output_type": "execute_result"
    }
   ],
   "source": [
    "my_confusion_matrix(y_valid, y_pred_poly_svm, 'Support Vector Machine - Polynomial(3) Confusion Matrix', 'Support Vector Machine - Polynomial(3):')"
   ]
  },
  {
   "cell_type": "markdown",
   "id": "e3ccf701",
   "metadata": {},
   "source": [
    "### Radial Basis Function Kernel"
   ]
  },
  {
   "cell_type": "code",
   "execution_count": 27,
   "id": "d0b353e2",
   "metadata": {},
   "outputs": [],
   "source": [
    "svm_classifier_rbf = SVC(kernel='rbf', gamma='scale')\n",
    "svm_classifier_rbf.fit(tfidf_matrix_train, y_train)\n",
    "\n",
    "# Predict the labels for the validation set\n",
    "y_pred_rbf_svm = svm_classifier_rbf.predict(tfidf_matrix_valid)"
   ]
  },
  {
   "cell_type": "code",
   "execution_count": 28,
   "id": "76481352",
   "metadata": {},
   "outputs": [
    {
     "name": "stdout",
     "output_type": "stream",
     "text": [
      "Support Vector Machine - Radial Basis Function: Accuracy Score: 96.95%\n",
      "              precision    recall  f1-score   support\n",
      "\n",
      "           0       0.97      1.00      0.98      1434\n",
      "           1       0.99      0.79      0.88       238\n",
      "\n",
      "    accuracy                           0.97      1672\n",
      "   macro avg       0.98      0.89      0.93      1672\n",
      "weighted avg       0.97      0.97      0.97      1672\n",
      "\n"
     ]
    },
    {
     "data": {
      "image/png": "[encoded data removed]",
      "text/plain": [
       "<Figure size 640x480 with 1 Axes>"
      ]
     },
     "metadata": {},
     "output_type": "display_data"
    },
    {
     "data": {
      "text/plain": [
       "array([[1433,    1],\n",
       "       [  50,  188]], dtype=int64)"
      ]
     },
     "execution_count": 28,
     "metadata": {},
     "output_type": "execute_result"
    }
   ],
   "source": [
    "my_confusion_matrix(y_valid, y_pred_rbf_svm, 'Support Vector Machine - RBF Confusion Matrix', 'Support Vector Machine - Radial Basis Function:')"
   ]
  },
  {
   "cell_type": "code",
   "execution_count": 29,
   "id": "25b80c3b",
   "metadata": {},
   "outputs": [],
   "source": [
    "svm_classifier_sigmoid = SVC(kernel='sigmoid', gamma='scale', coef0=0.0)\n",
    "svm_classifier_sigmoid.fit(tfidf_matrix_train, y_train)\n",
    "\n",
    "# Predict the labels for the validation set\n",
    "y_pred_sigmoid_svm = svm_classifier_sigmoid.predict(tfidf_matrix_valid)"
   ]
  },
  {
   "cell_type": "code",
   "execution_count": 30,
   "id": "b135200f",
   "metadata": {},
   "outputs": [
    {
     "name": "stdout",
     "output_type": "stream",
     "text": [
      "Support Vector Machine - Sigmoid: Accuracy Score: 97.85%\n",
      "              precision    recall  f1-score   support\n",
      "\n",
      "           0       0.98      1.00      0.99      1434\n",
      "           1       0.98      0.87      0.92       238\n",
      "\n",
      "    accuracy                           0.98      1672\n",
      "   macro avg       0.98      0.93      0.95      1672\n",
      "weighted avg       0.98      0.98      0.98      1672\n",
      "\n"
     ]
    },
    {
     "data": {
      "image/png": "[encoded data removed]",
      "text/plain": [
       "<Figure size 640x480 with 1 Axes>"
      ]
     },
     "metadata": {},
     "output_type": "display_data"
    },
    {
     "data": {
      "text/plain": [
       "array([[1430,    4],\n",
       "       [  32,  206]], dtype=int64)"
      ]
     },
     "execution_count": 30,
     "metadata": {},
     "output_type": "execute_result"
    }
   ],
   "source": [
    "my_confusion_matrix(y_valid, y_pred_sigmoid_svm, 'Support Vector Machine - Sigmoid Confusion Matrix', 'Support Vector Machine - Sigmoid:')"
   ]
  },
  {
   "cell_type": "markdown",
   "id": "bab9de23",
   "metadata": {},
   "source": [
    "It is important to prioritize reducing false positives to ensure that important messages are not incorrectly classified as spam. Therefore, we are looking at a model with high precision while maintaining a reasonable level of recall. *Note, spam was 1 and ham is 0.*\n",
    "\n",
    "In this context for SVM, the one with the linear kernel performs **\"best\"**."
   ]
  },
  {
   "cell_type": "markdown",
   "id": "6c7c067a",
   "metadata": {},
   "source": [
    "# Multilayer Perceptron Classifier"
   ]
  },
  {
   "cell_type": "code",
   "execution_count": 31,
   "id": "3e0dd803",
   "metadata": {},
   "outputs": [],
   "source": [
    "#Here are the default parameters for MLP:\n",
    "# MLPClassifier(activation='relu', \n",
    "#               alpha=0.0001, \n",
    "#               batch_size='auto', \n",
    "#               beta_1=0.9, \n",
    "#               beta_2=0.999, \n",
    "#               early_stopping=False, \n",
    "#               epsilon=1e-08, \n",
    "#               hidden_layer_sizes=(100,), \n",
    "#               learning_rate='constant', \n",
    "#               learning_rate_init=0.001, \n",
    "#               max_fun=15000, \n",
    "#               max_iter=200, \n",
    "#               momentum=0.9, \n",
    "#               n_iter_no_change=10, \n",
    "#               nesterovs_momentum=True, \n",
    "#               power_t=0.5, \n",
    "#               random_state=None, \n",
    "#               shuffle=True, \n",
    "#               solver='adam', \n",
    "#               tol=0.0001, \n",
    "#               validation_fraction=0.1, \n",
    "#               verbose=False, \n",
    "#               warm_start=False)"
   ]
  },
  {
   "cell_type": "code",
   "execution_count": 32,
   "id": "99a4f600",
   "metadata": {},
   "outputs": [],
   "source": [
    "mlp=MLPClassifier()\n",
    "mlp.fit(tfidf_matrix_train, y_train)\n",
    "\n",
    "# Predict the labels for the validation set\n",
    "y_pred_mlp=mlp.predict(tfidf_matrix_valid)"
   ]
  },
  {
   "cell_type": "code",
   "execution_count": 33,
   "id": "4b06cfbd",
   "metadata": {},
   "outputs": [
    {
     "name": "stdout",
     "output_type": "stream",
     "text": [
      "Multiplayer Perceptron Classifier: Accuracy Score: 98.39%\n",
      "              precision    recall  f1-score   support\n",
      "\n",
      "           0       0.98      1.00      0.99      1434\n",
      "           1       1.00      0.89      0.94       238\n",
      "\n",
      "    accuracy                           0.98      1672\n",
      "   macro avg       0.99      0.95      0.97      1672\n",
      "weighted avg       0.98      0.98      0.98      1672\n",
      "\n"
     ]
    },
    {
     "data": {
      "image/png": "[encoded data removed]",
      "text/plain": [
       "<Figure size 640x480 with 1 Axes>"
      ]
     },
     "metadata": {},
     "output_type": "display_data"
    },
    {
     "data": {
      "text/plain": [
       "array([[1433,    1],\n",
       "       [  26,  212]], dtype=int64)"
      ]
     },
     "execution_count": 33,
     "metadata": {},
     "output_type": "execute_result"
    }
   ],
   "source": [
    "my_confusion_matrix(y_valid, y_pred_mlp, 'Multilayer Perceptron Classifier Confusion Matrix', 'Multiplayer Perceptron Classifier:')"
   ]
  },
  {
   "cell_type": "markdown",
   "id": "7c2038e7",
   "metadata": {},
   "source": [
    "The Multilayer Perceptron Classifier took the longest to run but had the best overall accuracy of 98.68%. Support Vector Machine with a Linear kernel comes a close second at 98.56% but, the time was much faster. If speed is a concern, the SVM Linear kernel is the *best* model, but if not then MLP is the *best* model for this. "
   ]
  },
  {
   "cell_type": "markdown",
   "id": "1a4edfe3",
   "metadata": {},
   "source": [
    "# Hypertuning Our Best Model - Multilayer Perceptron Classifier"
   ]
  },
  {
   "cell_type": "code",
   "execution_count": 34,
   "id": "4129b23d",
   "metadata": {
    "scrolled": true
   },
   "outputs": [
    {
     "name": "stdout",
     "output_type": "stream",
     "text": [
      "Fitting 3 folds for each of 2187 candidates, totalling 6561 fits\n",
      "Iteration 1, loss = 0.35271064\n",
      "Validation score: 0.974359\n",
      "Iteration 2, loss = 0.06173579\n",
      "Validation score: 0.982051\n",
      "Iteration 3, loss = 0.02891108\n",
      "Validation score: 0.984615\n",
      "Iteration 4, loss = 0.01938963\n",
      "Validation score: 0.984615\n",
      "Iteration 5, loss = 0.01489272\n",
      "Validation score: 0.982051\n",
      "Iteration 6, loss = 0.01201048\n",
      "Validation score: 0.982051\n",
      "Iteration 7, loss = 0.01028520\n",
      "Validation score: 0.982051\n",
      "Iteration 8, loss = 0.00903450\n",
      "Validation score: 0.982051\n",
      "Iteration 9, loss = 0.00812994\n",
      "Validation score: 0.982051\n",
      "Iteration 10, loss = 0.00734139\n",
      "Validation score: 0.982051\n",
      "Iteration 11, loss = 0.00675789\n",
      "Validation score: 0.982051\n",
      "Iteration 12, loss = 0.00625328\n",
      "Validation score: 0.982051\n",
      "Iteration 13, loss = 0.00594628\n",
      "Validation score: 0.982051\n",
      "Iteration 14, loss = 0.00559800\n",
      "Validation score: 0.982051\n",
      "Validation score did not improve more than tol=0.000100 for 10 consecutive epochs. Stopping.\n",
      "Best Parameters: {'activation': 'logistic', 'alpha': 0.0001, 'early_stopping': True, 'hidden_layer_sizes': (50,), 'learning_rate': 'constant', 'learning_rate_init': 0.1, 'max_iter': 300, 'solver': 'adam'}\n"
     ]
    }
   ],
   "source": [
    "# Define the parameter grid\n",
    "param_grid = {\n",
    "    'hidden_layer_sizes': [(50,), (100,), (150,)],\n",
    "    'activation': ['relu', 'tanh', 'logistic'],\n",
    "    'alpha': [0.0001, 0.001, 0.01],\n",
    "    'learning_rate': ['constant', 'invscaling', 'adaptive'],\n",
    "    'learning_rate_init': [0.001, 0.01, 0.1],\n",
    "    'max_iter': [100, 200, 300],\n",
    "    'solver': ['adam', 'sgd', 'lbfgs'],\n",
    "    'early_stopping': [True]  # Include early_stopping in the parameter grid\n",
    "}\n",
    "\n",
    "# Create the GridSearchCV instance with 5-fold cross-validation\n",
    "mlp_grid = GridSearchCV(MLPClassifier(verbose=True),\n",
    "                        param_grid,\n",
    "                        cv=3,\n",
    "                        scoring='accuracy',\n",
    "                        n_jobs=-1,\n",
    "                        verbose=1)  # Set verbose to 1\n",
    "\n",
    "# Fit the GridSearchCV instance\n",
    "mlp_grid.fit(tfidf_matrix_train, y_train)\n",
    "\n",
    "# Retrieve the best parameters and best estimator\n",
    "best_params = mlp_grid.best_params_\n",
    "best_mlp = mlp_grid.best_estimator_\n",
    "\n",
    "# Print the best parameters\n",
    "print(\"Best Parameters:\", best_params)"
   ]
  },
  {
   "cell_type": "code",
   "execution_count": 35,
   "id": "19cf1107",
   "metadata": {},
   "outputs": [],
   "source": [
    "# Build MLP classifier using the best parameters\n",
    "best_mlp = MLPClassifier(\n",
    "    hidden_layer_sizes=best_params['hidden_layer_sizes'],\n",
    "    activation=best_params['activation'],\n",
    "    solver=best_params['solver'],\n",
    "    alpha=best_params['alpha'],\n",
    "    learning_rate=best_params['learning_rate'],\n",
    "    learning_rate_init=best_params['learning_rate_init'],\n",
    "    max_iter=best_params['max_iter'],\n",
    "    random_state=42\n",
    ")\n",
    "\n",
    "# Fit the best MLP classifier on the training data\n",
    "best_mlp.fit(tfidf_matrix_train, y_train)\n",
    "\n",
    "# Predict the labels for the validation set\n",
    "y_pred_best_mlp = best_mlp.predict(tfidf_matrix_valid)"
   ]
  },
  {
   "cell_type": "code",
   "execution_count": 36,
   "id": "f03f244d",
   "metadata": {},
   "outputs": [
    {
     "name": "stdout",
     "output_type": "stream",
     "text": [
      "Hypertuned Multiplayer Perceptron Classifier: Accuracy Score: 97.43%\n",
      "              precision    recall  f1-score   support\n",
      "\n",
      "           0       0.98      0.99      0.99      1434\n",
      "           1       0.94      0.87      0.91       238\n",
      "\n",
      "    accuracy                           0.97      1672\n",
      "   macro avg       0.96      0.93      0.95      1672\n",
      "weighted avg       0.97      0.97      0.97      1672\n",
      "\n"
     ]
    },
    {
     "data": {
      "image/png": "[encoded data removed]",
      "text/plain": [
       "<Figure size 640x480 with 1 Axes>"
      ]
     },
     "metadata": {},
     "output_type": "display_data"
    },
    {
     "data": {
      "text/plain": [
       "array([[1421,   13],\n",
       "       [  30,  208]], dtype=int64)"
      ]
     },
     "execution_count": 36,
     "metadata": {},
     "output_type": "execute_result"
    }
   ],
   "source": [
    "my_confusion_matrix(y_valid, y_pred_best_mlp, 'Hypertuned MLP Confusion Matrix', 'Hypertuned Multiplayer Perceptron Classifier:')"
   ]
  },
  {
   "cell_type": "markdown",
   "id": "46b8ca24",
   "metadata": {},
   "source": [
    "As you can see, with our model that performed best in the validation set, hypertuned using GridSearchCV our results show that the best model has the following parameters: {'activation': 'logistic', 'alpha': 0.0001, 'early_stopping': True, 'hidden_layer_sizes': (50,), 'learning_rate': 'constant', 'learning_rate_init': 0.1, 'max_iter': 300, 'solver': 'adam'}. This is close to the default model except the max_iter and hidden layer sizes are different. \n",
    "\n",
    "The hypertuned model has  following accuracy score: 97.43% which is less than the default MLP Classifier model.This could be because of overfitting in cross validation, randomness, or the hyperparameter search space was not an optimal set."
   ]
  },
  {
   "cell_type": "code",
   "execution_count": null,
   "id": "b3a8f5ae",
   "metadata": {},
   "outputs": [],
   "source": []
  }
 ],
 "metadata": {
  "kernelspec": {
   "display_name": "Python 3 (ipykernel)",
   "language": "python",
   "name": "python3"
  },
  "language_info": {
   "codemirror_mode": {
    "name": "ipython",
    "version": 3
   },
   "file_extension": ".py",
   "mimetype": "text/x-python",
   "name": "python",
   "nbconvert_exporter": "python",
   "pygments_lexer": "ipython3",
   "version": "3.9.7"
  }
 },
 "nbformat": 4,
 "nbformat_minor": 5
}
